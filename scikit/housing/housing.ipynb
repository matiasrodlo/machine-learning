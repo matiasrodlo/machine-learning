{
 "cells": [
  {
   "cell_type": "code",
   "execution_count": 35,
   "id": "825e1b50-50e5-4b90-a086-48fc3c193ba7",
   "metadata": {},
   "outputs": [
    {
     "name": "stdout",
     "output_type": "stream",
     "text": [
      "0.8477910158157531\n",
      "0.8441838755131348\n",
      "0.84615180361349\n",
      "0.8403676724793797\n",
      "0.8462205015352651\n",
      "0.8437052863935044\n",
      "0.8453224450379441\n",
      "0.8455917231595262\n",
      "0.8439993510437148\n"
     ]
    }
   ],
   "source": [
    "from sklearn import datasets\n",
    "from sklearn.model_selection import train_test_split\n",
    "from sklearn.linear_model import LinearRegression\n",
    "from sklearn.metrics import r2_score\n",
    "from sklearn.preprocessing import PolynomialFeatures\n",
    "from sklearn.ensemble import (\n",
    "    HistGradientBoostingRegressor,\n",
    "    RandomForestRegressor)\n",
    "import joblib\n",
    "\n",
    "housing = datasets.fetch_california_housing()\n",
    "\n",
    "x = housing.data\n",
    "y = housing.target\n",
    "\n",
    "#print(x.shape)\n",
    "\n",
    "poly = PolynomialFeatures()\n",
    "x = poly.fit_transform(x)\n",
    "\n",
    "#print(x.shape)\n",
    "\n",
    "x_train, x_test, y_train, y_test= train_test_split(\n",
    "    x,\n",
    "    y,\n",
    "    test_size=0.2,\n",
    "    random_state=432\n",
    ")\n",
    "\n",
    "LR = LinearRegression()\n",
    "GBR = HistGradientBoostingRegressor()\n",
    "RFR = RandomForestRegressor(\n",
    "    n_jobs=-1\n",
    ")\n",
    "for j in [0.1, 0.05, 0.001]:\n",
    "    for i in [200, 250, 300]:\n",
    "        model = HistGradientBoostingRegressor(\n",
    "            max_iter=350,\n",
    "            learning_rate=0.05\n",
    "        )\n",
    "        model.fit(x_train, y_train)\n",
    "\n",
    "        joblib.dump(model, \"my_model.joblib\")\n",
    "        \n",
    "        y_pred = model.predict(x_test)\n",
    "        r2 = r2_score(y_test, y_pred)\n",
    "        print(r2)\n",
    "    #print(housing.feature_names)\n",
    "    #print(x_train[0])\n",
    "    #print(y_train[0])"
   ]
  },
  {
   "cell_type": "code",
   "execution_count": 36,
   "id": "1f373c1e-d69e-4cb8-bcfc-c93d5c6d0001",
   "metadata": {},
   "outputs": [
    {
     "name": "stdout",
     "output_type": "stream",
     "text": [
      "0.8439993510437148\n"
     ]
    }
   ],
   "source": [
    "local_model = joblib.load(\"my_model.joblib\")\n",
    "\n",
    "y_pred = model.predict(x_test)\n",
    "r2 = r2_score(y_test, y_pred)\n",
    "print(r2)"
   ]
  },
  {
   "cell_type": "code",
   "execution_count": null,
   "id": "746ff231-00c3-4867-ac13-08cf25810ec3",
   "metadata": {},
   "outputs": [],
   "source": []
  }
 ],
 "metadata": {
  "kernelspec": {
   "display_name": "Python 3 (ipykernel)",
   "language": "python",
   "name": "python3"
  },
  "language_info": {
   "codemirror_mode": {
    "name": "ipython",
    "version": 3
   },
   "file_extension": ".py",
   "mimetype": "text/x-python",
   "name": "python",
   "nbconvert_exporter": "python",
   "pygments_lexer": "ipython3",
   "version": "3.12.11"
  }
 },
 "nbformat": 4,
 "nbformat_minor": 5
}
